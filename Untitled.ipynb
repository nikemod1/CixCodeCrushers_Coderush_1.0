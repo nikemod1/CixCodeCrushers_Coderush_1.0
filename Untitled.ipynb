{
 "cells": [
  {
   "cell_type": "code",
   "execution_count": 11,
   "id": "8234c202-01a2-4c89-abbd-bf714bd236ef",
   "metadata": {},
   "outputs": [],
   "source": [
    "import os\n",
    "import glob\n",
    "import torch\n",
    "import torch.nn as nn\n",
    "import torch.optim as optim\n",
    "from torch.utils.data import Dataset, DataLoader\n",
    "import numpy as np\n",
    "import librosa\n",
    "from sklearn.model_selection import train_test_split\n",
    "from sklearn.metrics import accuracy_score"
   ]
  },
  {
   "cell_type": "code",
   "execution_count": null,
   "id": "46af12a7-c7ff-4815-9437-2e4e539b0681",
   "metadata": {},
   "outputs": [],
   "source": [
    "# 3. Constants\n",
    "SR = 16000\n",
    "DURATIO = 3\n",
    "CLIP_LEN = SR * DURATION\n",
    "N_MELS = 64"
   ]
  },
  {
   "cell_type": "code",
   "execution_count": 13,
   "id": "40ac81d5-4092-428d-97a9-adcb23491b86",
   "metadata": {},
   "outputs": [],
   "source": [
    "# 4. Feature extraction\n",
    "def extract_mel(file_path):\n",
    "    y, sr = librosa.load(file_path, sr=SR, mono=True, duration=DURATION)\n",
    "    if len(y) < CLIP_LEN:\n",
    "        y = np.pad(y, (0, CLIP_LEN-len(y)))\n",
    "    else:\n",
    "        y = y[:CLIP_LEN]\n",
    "    mel = librosa.feature.melspectrogram(y=y, sr=sr, n_mels=N_MELS)\n",
    "    mel = librosa.power_to_db(mel, ref=np.max)\n",
    "    mel = (mel - mel.mean())/(mel.std()+1e-6)\n",
    "    return mel.astype(np.float32)"
   ]
  },
  {
   "cell_type": "code",
   "execution_count": 17,
   "id": "306b6027-6c47-4ef5-9723-9ba63f5a327b",
   "metadata": {},
   "outputs": [
    {
     "name": "stdout",
     "output_type": "stream",
     "text": [
      "Samples loaded: 1152 labels: {0, 1}\n"
     ]
    }
   ],
   "source": [
    "# 5. Collecting file paths with labels\n",
    "X, y = [], []\n",
    "root = \"data\"  # adjust to actual folder name\n",
    "for file in glob.glob(f\"{root}/**/*.wav\", recursive=True):\n",
    "    parts = os.path.basename(file).split(\"-\")\n",
    "    emotion = parts[2]  # '02', '03', '04', etc.\n",
    "    if emotion in [\"02\", \"03\"]:  # calm, happy\n",
    "        X.append(file); y.append(0)\n",
    "    elif emotion == \"04\":  # sad\n",
    "        X.append(file); y.append(1)\n",
    "\n",
    "print(\"Samples loaded:\", len(X), \"labels:\", set(y))"
   ]
  },
  {
   "cell_type": "code",
   "execution_count": 18,
   "id": "5be044cb-5d8f-4093-9fb6-b55e5d8430a2",
   "metadata": {},
   "outputs": [],
   "source": [
    "# 6. Train-test split\n",
    "X_train, X_test, y_train, y_test = train_test_split(\n",
    "    X, y, test_size=0.2, stratify=y, random_state=42)"
   ]
  },
  {
   "cell_type": "code",
   "execution_count": null,
   "id": "970d789e-94c4-4589-a1cf-923ee60ff139",
   "metadata": {},
   "outputs": [],
   "source": [
    "# 7. Dataset class\n",
    "class VocalEmotionDataset(Dataset):\n",
    "    def __init__(self, files , labels):\n",
    "        self.files = files\n",
    "        self.labels = labels\n",
    "    def __len__(self):\n",
    "        return len(self.files)\n",
    "    def __getitem__(self, idx):\n",
    "        mel = extract_mel(self.files[idx])\n",
    "        mel = torch.tensor(mel).unsqueeze(0)  # (1, n_mels, time)\n",
    "        label = torch.tensor(self.labels[idx], dtype=torch.float32)\n",
    "        return mel, label\n",
    "\n",
    "train_ds = VocalEmotionDataset(X_train, y_train)\n",
    "test_ds  = VocalEmotionDataset(X_test,  y_test)\n",
    "\n",
    "train_loader = DataLoader(train_ds, batch_size=16, shuffle=True)\n",
    "test_loader  = DataLoader(test_ds, batch_size=16)"
   ]
  },
  {
   "cell_type": "code",
   "execution_count": 20,
   "id": "216d35c4-ddca-4c4a-a211-0d48b97ea673",
   "metadata": {},
   "outputs": [],
   "source": [
    "# 8. Model definition\n",
    "class CNNVoice(nn.Module):\n",
    "    def __init__(self):\n",
    "        super().__init__()\n",
    "        self.conv = nn.Sequential(\n",
    "            nn.Conv2d(1, 32, 3, padding=1), nn.ReLU(), nn.MaxPool2d(2),\n",
    "            nn.Conv2d(32, 64, 3, padding=1), nn.ReLU(), nn.MaxPool2d(2),\n",
    "        )\n",
    "        # compute flattened size with dummy input\n",
    "        dummy = torch.zeros(1,1,N_MELS, CLIP_LEN//(512))  # rough time dimension\n",
    "        flat_size = self.conv(dummy).numel()\n",
    "        self.fc = nn.Sequential(\n",
    "            nn.Flatten(),\n",
    "            nn.Linear(flat_size, 64), nn.ReLU(), nn.Dropout(0.3),\n",
    "            nn.Linear(64,1), nn.Sigmoid()\n",
    "        )\n",
    "    def forward(self, x):\n",
    "        return self.fc(self.conv(x))"
   ]
  },
  {
   "cell_type": "code",
   "execution_count": 21,
   "id": "f30b2e0c-af89-43b0-900a-37d1142aa908",
   "metadata": {},
   "outputs": [],
   "source": [
    "# 9. Initialize training\n",
    "device = torch.device(\"cuda\" if torch.cuda.is_available() else \"cpu\")\n",
    "model = CNNVoice().to(device)\n",
    "criterion = nn.BCELoss()\n",
    "optimizer = optim.Adam(model.parameters(), lr=1e-3)"
   ]
  },
  {
   "cell_type": "code",
   "execution_count": 22,
   "id": "a1bfeff1-6da2-491b-8adb-7b3c1f2c6db2",
   "metadata": {},
   "outputs": [
    {
     "name": "stdout",
     "output_type": "stream",
     "text": [
      "Epoch 1/10 — Loss: 0.6609\n",
      "Epoch 2/10 — Loss: 0.6045\n",
      "Epoch 3/10 — Loss: 0.5240\n",
      "Epoch 4/10 — Loss: 0.4178\n",
      "Epoch 5/10 — Loss: 0.2903\n",
      "Epoch 6/10 — Loss: 0.1984\n",
      "Epoch 7/10 — Loss: 0.1387\n",
      "Epoch 8/10 — Loss: 0.0984\n",
      "Epoch 9/10 — Loss: 0.0574\n",
      "Epoch 10/10 — Loss: 0.0414\n"
     ]
    }
   ],
   "source": [
    "# 10. Training loop\n",
    "for epoch in range(10):\n",
    "    model.train()\n",
    "    total_loss = 0\n",
    "    for Xb, yb in train_loader:\n",
    "        Xb, yb = Xb.to(device), yb.to(device).unsqueeze(1)\n",
    "        preds = model(Xb)\n",
    "        loss = criterion(preds, yb)\n",
    "        optimizer.zero_grad()\n",
    "        loss.backward()\n",
    "        optimizer.step()\n",
    "        total_loss += loss.item()\n",
    "    print(f\"Epoch {epoch+1}/10 — Loss: {total_loss/len(train_loader):.4f}\")"
   ]
  },
  {
   "cell_type": "code",
   "execution_count": 23,
   "id": "15a82993-6623-42b4-acef-71aad4e9bae0",
   "metadata": {},
   "outputs": [
    {
     "name": "stdout",
     "output_type": "stream",
     "text": [
      "Test Accuracy: 0.9437229437229437\n"
     ]
    }
   ],
   "source": [
    "# 11. Evaluation\n",
    "model.eval()\n",
    "y_true, y_pred = [], []\n",
    "with torch.no_grad():\n",
    "    for Xb, yb in test_loader:\n",
    "        Xb = Xb.to(device)\n",
    "        preds = (model(Xb).cpu().numpy()>0.5).astype(int).ravel()\n",
    "        y_true.extend(yb.numpy()); y_pred.extend(preds)\n",
    "print(\"Test Accuracy:\", accuracy_score(y_true, y_pred))\n"
   ]
  },
  {
   "cell_type": "code",
   "execution_count": 24,
   "id": "5ba7a881-3cc8-4f05-b41c-00ecb241cee5",
   "metadata": {},
   "outputs": [
    {
     "name": "stdout",
     "output_type": "stream",
     "text": [
      "Model saved!\n"
     ]
    }
   ],
   "source": [
    "# 12. Save the model\n",
    "torch.save(model.state_dict(), \"voice_depression_model.pth\")\n",
    "print(\"Model saved!\")"
   ]
  },
  {
   "cell_type": "code",
   "execution_count": null,
   "id": "8550312b-a8bd-4a59-a6c0-686aceae22d6",
   "metadata": {},
   "outputs": [],
   "source": []
  }
 ],
 "metadata": {
  "kernelspec": {
   "display_name": "Python 3 (ipykernel)",
   "language": "python",
   "name": "python3"
  },
  "language_info": {
   "codemirror_mode": {
    "name": "ipython",
    "version": 3
   },
   "file_extension": ".py",
   "mimetype": "text/x-python",
   "name": "python",
   "nbconvert_exporter": "python",
   "pygments_lexer": "ipython3",
   "version": "3.13.4"
  }
 },
 "nbformat": 4,
 "nbformat_minor": 5
}
